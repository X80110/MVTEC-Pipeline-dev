{
 "metadata": {
  "language_info": {
   "codemirror_mode": {
    "name": "ipython",
    "version": 3
   },
   "file_extension": ".py",
   "mimetype": "text/x-python",
   "name": "python",
   "nbconvert_exporter": "python",
   "pygments_lexer": "ipython3",
   "version": "3.7.3-final"
  },
  "orig_nbformat": 2,
  "kernelspec": {
   "name": "python3",
   "display_name": "Python 3",
   "language": "python"
  }
 },
 "nbformat": 4,
 "nbformat_minor": 2,
 "cells": [
  {
   "cell_type": "code",
   "execution_count": 71,
   "metadata": {},
   "outputs": [],
   "source": [
    "import requests\n",
    "import pandas as pd\n",
    "from datetime import datetime\n",
    "import pytz\n",
    "import glob"
   ]
  },
  {
   "cell_type": "code",
   "execution_count": 29,
   "metadata": {},
   "outputs": [],
   "source": [
    "headers = {\"User-Agent\": \"Mozilla/5.0 (Windows NT 10.0; Win64; x64) AppleWebKit/537.36 (KHTML, like Gecko) Chrome/70.0.3538.77 Safari/537.36\"}\n",
    "url = 'https://www.investing.com/currencies/usd-twd-historical-data'\n",
    "response = requests.get(url, headers=headers)"
   ]
  },
  {
   "cell_type": "code",
   "execution_count": 14,
   "metadata": {},
   "outputs": [],
   "source": [
    "dfs = pd.read_html(response.text)\n"
   ]
  },
  {
   "cell_type": "code",
   "execution_count": 24,
   "metadata": {},
   "outputs": [],
   "source": [
    "df = dfs[0]"
   ]
  },
  {
   "cell_type": "code",
   "execution_count": 81,
   "metadata": {},
   "outputs": [
    {
     "output_type": "stream",
     "name": "stdout",
     "text": [
      "output20210102.csv\n"
     ]
    }
   ],
   "source": [
    "for name in glob.glob('*[0-9].*'): #get filenames contain digit\n",
    "    print(name)\n",
    "    currency_filename = name"
   ]
  },
  {
   "cell_type": "code",
   "execution_count": 83,
   "metadata": {},
   "outputs": [],
   "source": [
    "currency_df = pd.read_csv(currency_filename)"
   ]
  },
  {
   "cell_type": "code",
   "execution_count": 39,
   "metadata": {},
   "outputs": [
    {
     "output_type": "execute_result",
     "data": {
      "text/plain": [
       "          Date   Price    Open    High     Low Change %\n",
       "0   2020-12-24  28.106  28.151  28.174  28.098   -0.10%\n",
       "1   2020-12-23  28.134  28.170  28.202  28.081   -0.01%\n",
       "2   2020-12-22  28.137  28.154  28.219  28.127    0.00%\n",
       "3   2020-12-21  28.137  28.170  28.287  28.123   -0.06%\n",
       "4   2020-12-18  28.154  28.138  28.189  28.095    0.03%\n",
       "5   2020-12-17  28.146  28.105  28.231  28.063    0.05%\n",
       "6   2020-12-16  28.133  28.130  28.182  28.066    0.03%\n",
       "7   2020-12-15  28.125  28.131  28.211  28.083    0.04%\n",
       "8   2020-12-14  28.114  28.182  28.205  28.097   -0.22%\n",
       "9   2020-12-11  28.177  28.200  28.340  28.126    0.01%\n",
       "10  2020-12-10  28.175  28.268  28.276  28.184   -0.27%\n",
       "11  2020-12-09  28.250  28.235  28.288  28.157    0.03%\n",
       "12  2020-12-08  28.241  28.239  28.289  28.185    0.06%\n",
       "13  2020-12-07  28.224  28.216  28.317  28.209    0.08%\n",
       "14  2020-12-04  28.201  28.420  28.431  28.146   -0.74%\n",
       "15  2020-12-03  28.412  28.512  28.542  28.250   -0.24%\n",
       "16  2020-12-02  28.481  28.527  28.576  28.444   -0.11%"
      ],
      "text/html": "<div>\n<style scoped>\n    .dataframe tbody tr th:only-of-type {\n        vertical-align: middle;\n    }\n\n    .dataframe tbody tr th {\n        vertical-align: top;\n    }\n\n    .dataframe thead th {\n        text-align: right;\n    }\n</style>\n<table border=\"1\" class=\"dataframe\">\n  <thead>\n    <tr style=\"text-align: right;\">\n      <th></th>\n      <th>Date</th>\n      <th>Price</th>\n      <th>Open</th>\n      <th>High</th>\n      <th>Low</th>\n      <th>Change %</th>\n    </tr>\n  </thead>\n  <tbody>\n    <tr>\n      <th>0</th>\n      <td>2020-12-24</td>\n      <td>28.106</td>\n      <td>28.151</td>\n      <td>28.174</td>\n      <td>28.098</td>\n      <td>-0.10%</td>\n    </tr>\n    <tr>\n      <th>1</th>\n      <td>2020-12-23</td>\n      <td>28.134</td>\n      <td>28.170</td>\n      <td>28.202</td>\n      <td>28.081</td>\n      <td>-0.01%</td>\n    </tr>\n    <tr>\n      <th>2</th>\n      <td>2020-12-22</td>\n      <td>28.137</td>\n      <td>28.154</td>\n      <td>28.219</td>\n      <td>28.127</td>\n      <td>0.00%</td>\n    </tr>\n    <tr>\n      <th>3</th>\n      <td>2020-12-21</td>\n      <td>28.137</td>\n      <td>28.170</td>\n      <td>28.287</td>\n      <td>28.123</td>\n      <td>-0.06%</td>\n    </tr>\n    <tr>\n      <th>4</th>\n      <td>2020-12-18</td>\n      <td>28.154</td>\n      <td>28.138</td>\n      <td>28.189</td>\n      <td>28.095</td>\n      <td>0.03%</td>\n    </tr>\n    <tr>\n      <th>5</th>\n      <td>2020-12-17</td>\n      <td>28.146</td>\n      <td>28.105</td>\n      <td>28.231</td>\n      <td>28.063</td>\n      <td>0.05%</td>\n    </tr>\n    <tr>\n      <th>6</th>\n      <td>2020-12-16</td>\n      <td>28.133</td>\n      <td>28.130</td>\n      <td>28.182</td>\n      <td>28.066</td>\n      <td>0.03%</td>\n    </tr>\n    <tr>\n      <th>7</th>\n      <td>2020-12-15</td>\n      <td>28.125</td>\n      <td>28.131</td>\n      <td>28.211</td>\n      <td>28.083</td>\n      <td>0.04%</td>\n    </tr>\n    <tr>\n      <th>8</th>\n      <td>2020-12-14</td>\n      <td>28.114</td>\n      <td>28.182</td>\n      <td>28.205</td>\n      <td>28.097</td>\n      <td>-0.22%</td>\n    </tr>\n    <tr>\n      <th>9</th>\n      <td>2020-12-11</td>\n      <td>28.177</td>\n      <td>28.200</td>\n      <td>28.340</td>\n      <td>28.126</td>\n      <td>0.01%</td>\n    </tr>\n    <tr>\n      <th>10</th>\n      <td>2020-12-10</td>\n      <td>28.175</td>\n      <td>28.268</td>\n      <td>28.276</td>\n      <td>28.184</td>\n      <td>-0.27%</td>\n    </tr>\n    <tr>\n      <th>11</th>\n      <td>2020-12-09</td>\n      <td>28.250</td>\n      <td>28.235</td>\n      <td>28.288</td>\n      <td>28.157</td>\n      <td>0.03%</td>\n    </tr>\n    <tr>\n      <th>12</th>\n      <td>2020-12-08</td>\n      <td>28.241</td>\n      <td>28.239</td>\n      <td>28.289</td>\n      <td>28.185</td>\n      <td>0.06%</td>\n    </tr>\n    <tr>\n      <th>13</th>\n      <td>2020-12-07</td>\n      <td>28.224</td>\n      <td>28.216</td>\n      <td>28.317</td>\n      <td>28.209</td>\n      <td>0.08%</td>\n    </tr>\n    <tr>\n      <th>14</th>\n      <td>2020-12-04</td>\n      <td>28.201</td>\n      <td>28.420</td>\n      <td>28.431</td>\n      <td>28.146</td>\n      <td>-0.74%</td>\n    </tr>\n    <tr>\n      <th>15</th>\n      <td>2020-12-03</td>\n      <td>28.412</td>\n      <td>28.512</td>\n      <td>28.542</td>\n      <td>28.250</td>\n      <td>-0.24%</td>\n    </tr>\n    <tr>\n      <th>16</th>\n      <td>2020-12-02</td>\n      <td>28.481</td>\n      <td>28.527</td>\n      <td>28.576</td>\n      <td>28.444</td>\n      <td>-0.11%</td>\n    </tr>\n  </tbody>\n</table>\n</div>"
     },
     "metadata": {},
     "execution_count": 39
    }
   ],
   "source": [
    "currency_df"
   ]
  },
  {
   "cell_type": "code",
   "execution_count": 44,
   "metadata": {},
   "outputs": [],
   "source": [
    "combined = pd.concat([df, currency_df])"
   ]
  },
  {
   "cell_type": "code",
   "execution_count": 48,
   "metadata": {},
   "outputs": [],
   "source": [
    " combined['Date'] = pd.to_datetime(combined['Date'])"
   ]
  },
  {
   "cell_type": "code",
   "execution_count": 54,
   "metadata": {},
   "outputs": [],
   "source": [
    "combined = combined.drop_duplicates(subset='Date', keep=\"first\")"
   ]
  },
  {
   "cell_type": "code",
   "execution_count": 69,
   "metadata": {},
   "outputs": [
    {
     "output_type": "stream",
     "name": "stdout",
     "text": [
      "Madrid date: 20210102\n"
     ]
    }
   ],
   "source": [
    "tz_md = pytz.timezone('Europe/Madrid') \n",
    "date_str = datetime.now(tz_md).strftime(\"%Y%m%d\")\n",
    "print(\"Madrid date:\", date_str)\n"
   ]
  },
  {
   "cell_type": "code",
   "execution_count": 70,
   "metadata": {},
   "outputs": [],
   "source": [
    "combined.to_csv('output' + date_str + '.csv', index=False)"
   ]
  },
  {
   "cell_type": "code",
   "execution_count": null,
   "metadata": {},
   "outputs": [],
   "source": []
  }
 ]
}